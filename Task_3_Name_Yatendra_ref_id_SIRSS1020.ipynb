{
 "cells": [
  {
   "cell_type": "markdown",
   "metadata": {},
   "source": [
    "Write a function to return nth term of Fibonacci sequence"
   ]
  },
  {
   "cell_type": "code",
   "execution_count": 5,
   "metadata": {},
   "outputs": [
    {
     "name": "stdout",
     "output_type": "stream",
     "text": [
      "0\n",
      "1\n",
      "1\n",
      "2\n",
      "3\n"
     ]
    }
   ],
   "source": [
    "def fibonacci(n):\n",
    "    a=0\n",
    "    b=1\n",
    "    print(a)\n",
    "    print(b)\n",
    "    for i in range(2,n):\n",
    "        c=a+b\n",
    "        a=b\n",
    "        b=c\n",
    "        print(c)\n",
    "        \n",
    "fibonacci(5)\n",
    "        \n",
    "    "
   ]
  },
  {
   "cell_type": "markdown",
   "metadata": {},
   "source": [
    "Write a function to find out GCD of two numbers using EUCLID'S algorithm"
   ]
  },
  {
   "cell_type": "code",
   "execution_count": 6,
   "metadata": {},
   "outputs": [
    {
     "name": "stdout",
     "output_type": "stream",
     "text": [
      "enter the first number : 54\n",
      "enter the second number : 45\n",
      "9\n"
     ]
    }
   ],
   "source": [
    "def gcd(a,b):\n",
    "    if b==0:return a\n",
    "    return gcd(b,a%b)\n",
    "    if a==0:return b\n",
    "    return gcd(a%b,a)\n",
    "a=int(input(\"enter the first number : \"))\n",
    "b=int(input(\"enter the second number : \"))\n",
    "print(gcd(a,b))\n"
   ]
  },
  {
   "cell_type": "markdown",
   "metadata": {},
   "source": [
    "Write a function to find LCM of two number in most optimizers way"
   ]
  },
  {
   "cell_type": "code",
   "execution_count": 7,
   "metadata": {},
   "outputs": [
    {
     "name": "stdout",
     "output_type": "stream",
     "text": [
      "Enter the first value : 85\n",
      "Enter the second value : 75\n",
      "Lcm of  85 and 75 is  1275\n"
     ]
    }
   ],
   "source": [
    "def lcm(a,b):\n",
    "    if a>b:\n",
    "        higher=a\n",
    "    else:\n",
    "        higher=b\n",
    "    value=higher\n",
    "    while True:\n",
    "        if higher%a==0 and higher%b==0:\n",
    "            print(\"Lcm of \",a,\"and\",b,\"is \",higher)\n",
    "            break\n",
    "        else:\n",
    "            higher=higher+value\n",
    "            \n",
    "a=int(input(\"Enter the first value : \"))\n",
    "b=int(input(\"Enter the second value : \"))\n",
    "\n",
    "lcm(a,b)"
   ]
  },
  {
   "cell_type": "code",
   "execution_count": null,
   "metadata": {},
   "outputs": [],
   "source": []
  }
 ],
 "metadata": {
  "kernelspec": {
   "display_name": "Python 3",
   "language": "python",
   "name": "python3"
  },
  "language_info": {
   "codemirror_mode": {
    "name": "ipython",
    "version": 3
   },
   "file_extension": ".py",
   "mimetype": "text/x-python",
   "name": "python",
   "nbconvert_exporter": "python",
   "pygments_lexer": "ipython3",
   "version": "3.8.5"
  }
 },
 "nbformat": 4,
 "nbformat_minor": 4
}
